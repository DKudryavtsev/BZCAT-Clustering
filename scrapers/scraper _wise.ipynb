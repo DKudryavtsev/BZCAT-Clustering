{
 "cells": [
  {
   "cell_type": "code",
   "execution_count": 16,
   "metadata": {},
   "outputs": [],
   "source": [
    "import pandas as pd\n",
    "import pyvo\n",
    "import time\n",
    "from collections import defaultdict"
   ]
  },
  {
   "cell_type": "code",
   "execution_count": 17,
   "metadata": {},
   "outputs": [],
   "source": [
    "blcat = pd.read_excel('data/combined_dataset_BLCat.xlsx')"
   ]
  },
  {
   "cell_type": "code",
   "execution_count": 18,
   "metadata": {},
   "outputs": [],
   "source": [
    "def ra_to_deg(x):\n",
    "    hms = x.split()\n",
    "    return (int(hms[0])+(int(hms[1])+float(hms[2])/60)/60) * 15\n",
    "    \n",
    "    \n",
    "def del_to_deg(x):\n",
    "    dms = x.split()\n",
    "    if dms[0][0] == '-':\n",
    "        return int(dms[0]) - (int(dms[1])+float(dms[2])/60)/60\n",
    "    else:\n",
    "        return int(dms[0]) + (int(dms[1])+float(dms[2])/60)/60\n",
    "\n",
    "\n",
    "blcat['RA_deg'] = blcat['RA (J2000.0)'].apply(ra_to_deg)\n",
    "blcat['Dec_deg'] = blcat['Dec (J2000.0)'].apply(del_to_deg)"
   ]
  },
  {
   "cell_type": "code",
   "execution_count": 19,
   "metadata": {},
   "outputs": [],
   "source": [
    "#url = \"https://irsa.ipac.caltech.edu/SCS?table=fp_psc\"             # 2MASS\n",
    "#url = \"https://irsa.ipac.caltech.edu/SCS?table=allwise_p3as_psd\"   # WISE\n",
    "#objects = pyvo.conesearch(url, pos=(0.28333, 19.24278), radius = 0.0025)  # 9\" field\n",
    "#objects.to_table()\n",
    "#objects.fieldnames\n",
    "#objects.getdesc('w1mpro').description"
   ]
  },
  {
   "cell_type": "code",
   "execution_count": 20,
   "metadata": {},
   "outputs": [],
   "source": [
    "#result_df = pd.DataFrame(columns=['Source', 'w1', 'w1_err', 'w2', 'w2_err', \n",
    "#    'w3', 'w3_err', 'w4', 'w4_err', 'J', 'J_err', 'H', 'H_err', 'K', 'K_err',\n",
    "#    'offset_arcs'])\n",
    "#\n",
    "#j, n = 0, blcat.shape[0]\n",
    "#blcat.reset_index()\n",
    "#for index, obj in blcat.iterrows():\n",
    "#    j += 1\n",
    "#    print(f'{j} out of {n}')\n",
    "#    result_dict = {'Source': obj['BZCAT5 Source name']}\n",
    "#    url = \"https://irsa.ipac.caltech.edu/SCS?table=allwise_p3as_psd\"   # WISE\n",
    "#    pos = (obj['RA_deg'], obj['Dec_deg'])\n",
    "#    response = pyvo.conesearch(url, pos=pos, radius = 0.0025).to_table()  # 9\" field\n",
    "#    if len(response) > 0:\n",
    "#        response['offset_arcs'] = ((pos[0]-response['ra'])**2 \\\n",
    "#            +(pos[1]-response['dec'])**2)**(1/2) * 3600\n",
    "#        response.sort('offset_arcs')\n",
    "#        result_dict.update({\n",
    "#            'w1': response[0]['w1mpro'], 'w1_err': response[0]['w1sigmpro'],\n",
    "#            'w1_snr': response[0]['w1snr'], 'w1_chi2': response[0]['w1rchi2'],\n",
    "#            'w2': response[0]['w2mpro'], 'w2_err': response[0]['w2sigmpro'],\n",
    "#            'w2_snr': response[0]['w2snr'], 'w2_chi2': response[0]['w2rchi2'],\n",
    "#            'w3': response[0]['w3mpro'], 'w3_err': response[0]['w3sigmpro'],\n",
    "#            'w3_snr': response[0]['w3snr'], 'w3_chi2': response[0]['w3rchi2'],\n",
    "#            'w4': response[0]['w4mpro'], 'w4_err': response[0]['w4sigmpro'],\n",
    "#            'w4_snr': response[0]['w4snr'], 'w4_chi2': response[0]['w4rchi2'],\n",
    "#            'J':  response[0]['j_m_2mass'], 'J_err': response[0]['j_msig_2mass'],\n",
    "#            'H':  response[0]['h_m_2mass'], 'H_err': response[0]['h_msig_2mass'],\n",
    "#            'K':  response[0]['k_m_2mass'], 'K_err': response[0]['k_msig_2mass'],\n",
    "#            'offset_arcs': response[0]['offset_arcs']\n",
    "#        })\n",
    "#    #print(response[0]['designation'], result_dict)\n",
    "#    result_df = pd.concat([result_df, pd.DataFrame(result_dict, index=[0])], ignore_index=True)\n",
    "#    time.sleep(4)   \n",
    "#\n",
    "#result_df.to_excel('data/WISE_data.xlsx')"
   ]
  },
  {
   "cell_type": "code",
   "execution_count": null,
   "metadata": {},
   "outputs": [],
   "source": [
    "result = defaultdict(list)\n",
    "\n",
    "j, n = 0, blcat.shape[0]\n",
    "blcat.reset_index()\n",
    "for index, obj in blcat.iterrows():\n",
    "    j += 1\n",
    "    print(f'{j} out of {n}')\n",
    "    url = \"https://irsa.ipac.caltech.edu/SCS?table=allwise_p3as_psd\"   # WISE\n",
    "    pos = (obj['RA_deg'], obj['Dec_deg'])\n",
    "    response = pyvo.conesearch(url, pos=pos, radius = 0.0025).to_table()  # 9\" field\n",
    "    if len(response) > 0:\n",
    "        response['offset_arcs'] = ((pos[0]-response['ra'])**2 \\\n",
    "            +(pos[1]-response['dec'])**2)**(1/2) * 3600\n",
    "        response.sort('offset_arcs')\n",
    "        result['Source'].append(obj['BZCAT5 Source name'])\n",
    "        result['w1'].append(response[0]['w1mpro'])\n",
    "        result['w1_err'].append(response[0]['w1sigmpro'])\n",
    "        #result['w1_snr'].append(response[0]['w1snr'])\n",
    "        #result['w1_chi2'].append(response[0]['w1rchi2'])\n",
    "        result['w2'].append(response[0]['w2mpro'])\n",
    "        result['w2_err'].append(response[0]['w2sigmpro'])\n",
    "        #result['w2_snr'].append(response[0]['w2snr'])\n",
    "        #result['w2_chi2'].append(response[0]['w2rchi2'])\n",
    "        result['w3'].append(response[0]['w3mpro'])\n",
    "        result['w3_err'].append(response[0]['w3sigmpro'])\n",
    "        #result['w3_snr'].append(response[0]['w3snr'])\n",
    "        #result['w3_chi2'].append(response[0]['w3rchi2'])\n",
    "        result['w4'].append(response[0]['w4mpro'])\n",
    "        result['w4_err'].append(response[0]['w4sigmpro'])\n",
    "        #result['w4_snr'].append(response[0]['w4snr'])\n",
    "        #result['w4_chi2'].append(response[0]['w4rchi2'])\n",
    "        result['J'].append(response[0]['j_m_2mass'])\n",
    "        result['J_err'].append(response[0]['j_msig_2mass'])\n",
    "        result['H'].append(response[0]['h_m_2mass'])\n",
    "        result['H_err'].append(response[0]['h_msig_2mass'])\n",
    "        result['K'].append(response[0]['k_m_2mass'])\n",
    "        result['K_err'].append(response[0]['k_msig_2mass'])\n",
    "        result['offset_arcs'].append(response[0]['offset_arcs'])\n",
    "    \n",
    "    time.sleep(4)   \n",
    "\n",
    "result_df = pd.DataFrame(result)\n",
    "result_df.to_excel('data/WISE_data.xlsx')"
   ]
  }
 ],
 "metadata": {
  "interpreter": {
   "hash": "916dbcbb3f70747c44a77c7bcd40155683ae19c65e1c03b4aa3499c5328201f1"
  },
  "kernelspec": {
   "display_name": "Python 3.9.2 64-bit",
   "language": "python",
   "name": "python3"
  },
  "language_info": {
   "codemirror_mode": {
    "name": "ipython",
    "version": 3
   },
   "file_extension": ".py",
   "mimetype": "text/x-python",
   "name": "python",
   "nbconvert_exporter": "python",
   "pygments_lexer": "ipython3",
   "version": "3.9.2"
  },
  "orig_nbformat": 4
 },
 "nbformat": 4,
 "nbformat_minor": 2
}
