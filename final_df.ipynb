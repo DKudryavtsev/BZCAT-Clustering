{
 "cells": [
  {
   "cell_type": "code",
   "execution_count": 68,
   "metadata": {},
   "outputs": [],
   "source": [
    "import pandas as pd"
   ]
  },
  {
   "cell_type": "code",
   "execution_count": 69,
   "metadata": {},
   "outputs": [],
   "source": [
    "combined = pd.read_csv('data/BZCAT_combined.csv')\n",
    "all_features = pd.read_csv('data/BZCAT_all_features.csv')\n",
    "clusters = pd.read_csv('data/BZCAT_clusters.csv')"
   ]
  },
  {
   "cell_type": "code",
   "execution_count": 70,
   "metadata": {},
   "outputs": [],
   "source": [
    "cols1 = [\n",
    "    'BZCAT5 Source name', 'RA (J2000.0)', 'Dec (J2000.0)', 'Redshift',\n",
    "    'Class', 'Rad_opt_sp_index', 'alpha_1.1-2.3',\n",
    "    'alpha_2.3-4.8', 'alpha_4.8-7.7', 'alpha_4.8-11.2', 'alpha_7.7-11.2',\n",
    "    'alpha_11.2-21.7', 'alpha_7.7-21.7', 'alpha_4.8-21.7', 'var_1.1',\n",
    "    'var_2.3', 'var_4.8', 'var_7.7', 'var_11.2', 'var_21.7', 'u', 'g', 'r',\n",
    "    'i', 'z', 'PSTARRS_offset', 'gMeanPSFMag',\n",
    "    'gMeanPSFMagNpt', 'rMeanPSFMag',\n",
    "    'rMeanPSFMagNpt', 'iMeanPSFMag',\n",
    "    'iMeanPSFMagNpt', 'zMeanPSFMag',\n",
    "    'zMeanPSFMagNpt', 'yMeanPSFMag',\n",
    "    'yMeanPSFMagNpt', 'GALEX_offset',\n",
    "    'fuv_mag', 'nuv_mag', 'w1', 'w2', 'w3', 'w4', 'J', 'H', 'K',\n",
    "    'WISE_offset', 'ext_B', 'ext_V', 'ext_J',\n",
    "    'ext_H', 'ext_K', 'ext_SDSS_u', 'ext_SDSS_g', 'ext_SDSS_r',\n",
    "    'ext_SDSS_i', 'ext_SDSS_z', 'ext_PS1_g', 'ext_PS1_r', 'ext_PS1_i',\n",
    "    'ext_PS1_z', 'ext_PS1_y']\n",
    "\n",
    "result = combined[cols1]\n",
    "\n",
    "cols2 = [\n",
    "    'universe_age_Gyr',\n",
    "    'comoving_distance_Mpc', 'lookback_distance_Mpc',\n",
    "    'luminosity_distance_Mpc', 'distance_modulus_mag', \n",
    "    'ext_fuv', 'ext_nuv',\n",
    "    'log_nuF_fuv', 'log_nuF_nuv', 'log_nuF_g', 'log_nuF_r',\n",
    "    'log_nuF_i', 'log_nuF_z', 'log_nuF_y', 'log_nuF_Su', 'log_nuF_Sg',\n",
    "    'log_nuF_Sr', 'log_nuF_Si', 'log_nuF_Sz', 'log_nuF_J', 'log_nuF_H',\n",
    "    'log_nuF_K', 'log_nuF_w1', 'log_nuF_w2', 'log_nuF_w3', 'log_nuF_w4',\n",
    "    'tangent_wise', 'tangent_pstarrs', 'log_nu_radmax', \n",
    "    'log_nuF_X', 'log_nuF_gamma', 'log_radio_luminosity', 'log_nuF_1.4', 'log_nuF_143',\n",
    "    'log_nuF_4.8', 'g-r', 'r-i', 'i-z', 'z-y', 'w1-w2',\n",
    "    'w2-w3', 'w3-w4', 'fuv-nuv', 'Su-Sg', 'Sg-Sr', 'Sr-Si',\n",
    "    'Si-Sz', 'J-H', 'H-K', 'g_var', 'r_var', 'i_var',\n",
    "    'z_var', 'y_var', 'IR_opt_hard', 'IR_UV_hard',\n",
    "    'IR_X_hard']\n",
    "\n",
    "result = pd.concat([result, all_features[cols2]], axis=1)\n",
    "\n",
    "result = pd.concat([result, clusters[['cluster_kmeans']]], axis=1)\n",
    "\n",
    "# Correcting some column names\n",
    "rename_dict = {\n",
    "    'u': 'SDSS_u', 'g': 'SDSS_g', 'r': 'SDSS_r', 'i': 'SDSS_i', \n",
    "    'z': 'SDSS_z', 'log_nu_radmax': 'log_nu_synchmax', \n",
    "    'log_nuF_X': 'log_F_X',\n",
    "    'log_nuF_gamma': 'log_F_gamma', \n",
    "    'cluster_kmeans': 'cluster'\n",
    "}\n",
    "result.rename(rename_dict, axis=1, inplace=True)\n",
    "\n",
    "# Correcting column orders\n",
    "order = [\n",
    "    'BZCAT5 Source name', 'RA (J2000.0)', 'Dec (J2000.0)', 'Redshift', \n",
    "    'Class', 'Rad_opt_sp_index', 'GALEX_offset', 'fuv_mag', 'nuv_mag',\n",
    "    'PSTARRS_offset', 'gMeanPSFMag', 'gMeanPSFMagNpt', 'rMeanPSFMag',\n",
    "    'rMeanPSFMagNpt', 'iMeanPSFMag', 'iMeanPSFMagNpt', 'zMeanPSFMag',\n",
    "    'zMeanPSFMagNpt', 'yMeanPSFMag', 'yMeanPSFMagNpt', 'SDSS_u', \n",
    "    'SDSS_g', 'SDSS_r', 'SDSS_i', 'SDSS_z', 'J', 'H', 'K', 'WISE_offset',\n",
    "    'w1', 'w2', 'w3', 'w4', 'ext_fuv', 'ext_nuv', 'ext_SDSS_u', \n",
    "    'ext_SDSS_g', 'ext_SDSS_r', 'ext_SDSS_i', 'ext_SDSS_z', 'ext_PS1_g',\n",
    "    'ext_PS1_r', 'ext_PS1_i', 'ext_PS1_z', 'ext_PS1_y',  'ext_B', 'ext_V',\n",
    "    'ext_J', 'ext_H', 'ext_K', \n",
    "    'fuv-nuv', 'Su-Sg', 'Sg-Sr', 'Sr-Si', 'Si-Sz', 'g-r', 'r-i', 'i-z',\n",
    "    'z-y', 'J-H', 'H-K', 'w1-w2', 'w2-w3', 'w3-w4',\n",
    "    'log_F_gamma', 'log_F_X', 'log_nuF_fuv',\n",
    "    'log_nuF_nuv', 'log_nuF_Su', 'log_nuF_Sg', 'log_nuF_Sr', 'log_nuF_Si',\n",
    "    'log_nuF_Sz', 'log_nuF_g', 'log_nuF_r', 'log_nuF_i', 'log_nuF_z',\n",
    "    'log_nuF_y', 'log_nuF_J', 'log_nuF_H', 'log_nuF_K', 'log_nuF_w1',\n",
    "    'log_nuF_w2', 'log_nuF_w3', 'log_nuF_w4', 'log_nuF_1.4', 'log_nuF_143',\n",
    "    'log_nuF_4.8', 'alpha_1.1-2.3', 'alpha_2.3-4.8', 'alpha_4.8-7.7',\n",
    "    'alpha_4.8-11.2', 'alpha_7.7-11.2', 'alpha_11.2-21.7', 'alpha_7.7-21.7',\n",
    "    'alpha_4.8-21.7', 'universe_age_Gyr', 'comoving_distance_Mpc',\n",
    "    'lookback_distance_Mpc', 'luminosity_distance_Mpc', \n",
    "    'distance_modulus_mag', 'log_radio_luminosity', 'var_1.1', 'var_2.3',\n",
    "    'var_4.8', 'var_7.7', 'var_11.2', 'var_21.7', 'g_var', 'r_var', 'i_var',\n",
    "    'z_var', 'y_var', 'tangent_wise', 'tangent_pstarrs', 'log_nu_synchmax',\n",
    "    'IR_opt_hard', 'IR_UV_hard', 'IR_X_hard', 'cluster'\n",
    "] \n",
    "\n",
    "result = result[order]\n",
    "\n",
    "result.to_csv('data/BZCAT_RESULT.csv')"
   ]
  }
 ],
 "metadata": {
  "kernelspec": {
   "display_name": "Python 3",
   "language": "python",
   "name": "python3"
  },
  "language_info": {
   "codemirror_mode": {
    "name": "ipython",
    "version": 3
   },
   "file_extension": ".py",
   "mimetype": "text/x-python",
   "name": "python",
   "nbconvert_exporter": "python",
   "pygments_lexer": "ipython3",
   "version": "3.9.2"
  },
  "orig_nbformat": 4,
  "vscode": {
   "interpreter": {
    "hash": "916dbcbb3f70747c44a77c7bcd40155683ae19c65e1c03b4aa3499c5328201f1"
   }
  }
 },
 "nbformat": 4,
 "nbformat_minor": 2
}
