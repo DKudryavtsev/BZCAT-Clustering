{
 "cells": [
  {
   "cell_type": "code",
   "execution_count": 1,
   "metadata": {},
   "outputs": [
    {
     "name": "stderr",
     "output_type": "stream",
     "text": [
      "/home/dkudr/miniconda3/envs/sweetviz/lib/python3.10/site-packages/tqdm/auto.py:21: TqdmWarning: IProgress not found. Please update jupyter and ipywidgets. See https://ipywidgets.readthedocs.io/en/stable/user_install.html\n",
      "  from .autonotebook import tqdm as notebook_tqdm\n",
      "/home/dkudr/miniconda3/envs/sweetviz/lib/python3.10/site-packages/sweetviz/dataframe_report.py:74: FutureWarning: iteritems is deprecated and will be removed in a future version. Use .items instead.\n",
      "  all_source_names = [cur_name for cur_name, cur_series in source_df.iteritems()]\n",
      "/home/dkudr/miniconda3/envs/sweetviz/lib/python3.10/site-packages/sweetviz/dataframe_report.py:109: FutureWarning: iteritems is deprecated and will be removed in a future version. Use .items instead.\n",
      "  filtered_series_names_in_source = [cur_name for cur_name, cur_series in source_df.iteritems()\n",
      "Feature: Unnamed: 0                          |▎         | [  3%]   00:00 -> (00:00 left)/home/dkudr/miniconda3/envs/sweetviz/lib/python3.10/site-packages/sweetviz/series_analyzer_numeric.py:25: FutureWarning: The 'mad' method is deprecated and will be removed in a future version. To compute the same result, you may do `(df - df.mean()).abs().mean()`.\n",
      "  stats[\"mad\"] = series.mad()\n",
      "Feature: Rad_opt_sp_index                    |▋         | [  7%]   00:00 -> (00:07 left)/home/dkudr/miniconda3/envs/sweetviz/lib/python3.10/site-packages/sweetviz/series_analyzer_numeric.py:25: FutureWarning: The 'mad' method is deprecated and will be removed in a future version. To compute the same result, you may do `(df - df.mean()).abs().mean()`.\n",
      "  stats[\"mad\"] = series.mad()\n",
      "Feature: alpha_2.3-4.8                       |█         | [ 10%]   00:00 -> (00:09 left)/home/dkudr/miniconda3/envs/sweetviz/lib/python3.10/site-packages/sweetviz/series_analyzer_numeric.py:25: FutureWarning: The 'mad' method is deprecated and will be removed in a future version. To compute the same result, you may do `(df - df.mean()).abs().mean()`.\n",
      "  stats[\"mad\"] = series.mad()\n",
      "Feature: alpha_4.8-7.7                       |█▎        | [ 13%]   00:01 -> (00:09 left)/home/dkudr/miniconda3/envs/sweetviz/lib/python3.10/site-packages/sweetviz/series_analyzer_numeric.py:25: FutureWarning: The 'mad' method is deprecated and will be removed in a future version. To compute the same result, you may do `(df - df.mean()).abs().mean()`.\n",
      "  stats[\"mad\"] = series.mad()\n",
      "Feature: comoving_distance_Mpc               |█▋        | [ 17%]   00:01 -> (00:10 left)/home/dkudr/miniconda3/envs/sweetviz/lib/python3.10/site-packages/sweetviz/series_analyzer_numeric.py:25: FutureWarning: The 'mad' method is deprecated and will be removed in a future version. To compute the same result, you may do `(df - df.mean()).abs().mean()`.\n",
      "  stats[\"mad\"] = series.mad()\n",
      "Feature: log_nuF_nuv                         |██        | [ 20%]   00:02 -> (00:10 left)/home/dkudr/miniconda3/envs/sweetviz/lib/python3.10/site-packages/sweetviz/series_analyzer_numeric.py:25: FutureWarning: The 'mad' method is deprecated and will be removed in a future version. To compute the same result, you may do `(df - df.mean()).abs().mean()`.\n",
      "  stats[\"mad\"] = series.mad()\n",
      "Feature: log_nuF_g                           |██▎       | [ 23%]   00:02 -> (00:09 left)/home/dkudr/miniconda3/envs/sweetviz/lib/python3.10/site-packages/sweetviz/series_analyzer_numeric.py:25: FutureWarning: The 'mad' method is deprecated and will be removed in a future version. To compute the same result, you may do `(df - df.mean()).abs().mean()`.\n",
      "  stats[\"mad\"] = series.mad()\n",
      "Feature: log_nuF_r                           |██▋       | [ 27%]   00:03 -> (00:09 left)/home/dkudr/miniconda3/envs/sweetviz/lib/python3.10/site-packages/sweetviz/series_analyzer_numeric.py:25: FutureWarning: The 'mad' method is deprecated and will be removed in a future version. To compute the same result, you may do `(df - df.mean()).abs().mean()`.\n",
      "  stats[\"mad\"] = series.mad()\n",
      "Feature: log_nuF_i                           |███       | [ 30%]   00:03 -> (00:09 left)/home/dkudr/miniconda3/envs/sweetviz/lib/python3.10/site-packages/sweetviz/series_analyzer_numeric.py:25: FutureWarning: The 'mad' method is deprecated and will be removed in a future version. To compute the same result, you may do `(df - df.mean()).abs().mean()`.\n",
      "  stats[\"mad\"] = series.mad()\n",
      "Feature: log_nuF_z                           |███▎      | [ 33%]   00:04 -> (00:09 left)/home/dkudr/miniconda3/envs/sweetviz/lib/python3.10/site-packages/sweetviz/series_analyzer_numeric.py:25: FutureWarning: The 'mad' method is deprecated and will be removed in a future version. To compute the same result, you may do `(df - df.mean()).abs().mean()`.\n",
      "  stats[\"mad\"] = series.mad()\n",
      "Feature: log_nuF_y                           |███▋      | [ 37%]   00:04 -> (00:08 left)/home/dkudr/miniconda3/envs/sweetviz/lib/python3.10/site-packages/sweetviz/series_analyzer_numeric.py:25: FutureWarning: The 'mad' method is deprecated and will be removed in a future version. To compute the same result, you may do `(df - df.mean()).abs().mean()`.\n",
      "  stats[\"mad\"] = series.mad()\n",
      "Feature: log_nuF_w1                          |████      | [ 40%]   00:05 -> (00:08 left)/home/dkudr/miniconda3/envs/sweetviz/lib/python3.10/site-packages/sweetviz/series_analyzer_numeric.py:25: FutureWarning: The 'mad' method is deprecated and will be removed in a future version. To compute the same result, you may do `(df - df.mean()).abs().mean()`.\n",
      "  stats[\"mad\"] = series.mad()\n",
      "Feature: log_nuF_w2                          |████▎     | [ 43%]   00:05 -> (00:08 left)/home/dkudr/miniconda3/envs/sweetviz/lib/python3.10/site-packages/sweetviz/series_analyzer_numeric.py:25: FutureWarning: The 'mad' method is deprecated and will be removed in a future version. To compute the same result, you may do `(df - df.mean()).abs().mean()`.\n",
      "  stats[\"mad\"] = series.mad()\n",
      "Feature: log_nuF_w3                          |████▋     | [ 47%]   00:06 -> (00:07 left)/home/dkudr/miniconda3/envs/sweetviz/lib/python3.10/site-packages/sweetviz/series_analyzer_numeric.py:25: FutureWarning: The 'mad' method is deprecated and will be removed in a future version. To compute the same result, you may do `(df - df.mean()).abs().mean()`.\n",
      "  stats[\"mad\"] = series.mad()\n",
      "Feature: log_nuF_w4                          |█████     | [ 50%]   00:06 -> (00:06 left)/home/dkudr/miniconda3/envs/sweetviz/lib/python3.10/site-packages/sweetviz/series_analyzer_numeric.py:25: FutureWarning: The 'mad' method is deprecated and will be removed in a future version. To compute the same result, you may do `(df - df.mean()).abs().mean()`.\n",
      "  stats[\"mad\"] = series.mad()\n",
      "Feature: tangent_wise                        |█████▎    | [ 53%]   00:06 -> (00:06 left)/home/dkudr/miniconda3/envs/sweetviz/lib/python3.10/site-packages/sweetviz/series_analyzer_numeric.py:25: FutureWarning: The 'mad' method is deprecated and will be removed in a future version. To compute the same result, you may do `(df - df.mean()).abs().mean()`.\n",
      "  stats[\"mad\"] = series.mad()\n",
      "Feature: tangent_pstarrs                     |█████▋    | [ 57%]   00:07 -> (00:05 left)/home/dkudr/miniconda3/envs/sweetviz/lib/python3.10/site-packages/sweetviz/series_analyzer_numeric.py:25: FutureWarning: The 'mad' method is deprecated and will be removed in a future version. To compute the same result, you may do `(df - df.mean()).abs().mean()`.\n",
      "  stats[\"mad\"] = series.mad()\n",
      "Feature: log_nu_radmax                       |██████    | [ 60%]   00:07 -> (00:05 left)/home/dkudr/miniconda3/envs/sweetviz/lib/python3.10/site-packages/sweetviz/series_analyzer_numeric.py:25: FutureWarning: The 'mad' method is deprecated and will be removed in a future version. To compute the same result, you may do `(df - df.mean()).abs().mean()`.\n",
      "  stats[\"mad\"] = series.mad()\n",
      "Feature: log_nuF_X                           |██████▎   | [ 63%]   00:08 -> (00:05 left)/home/dkudr/miniconda3/envs/sweetviz/lib/python3.10/site-packages/sweetviz/series_analyzer_numeric.py:25: FutureWarning: The 'mad' method is deprecated and will be removed in a future version. To compute the same result, you may do `(df - df.mean()).abs().mean()`.\n",
      "  stats[\"mad\"] = series.mad()\n",
      "Feature: log_radio_luminosity                |██████▋   | [ 67%]   00:08 -> (00:04 left)/home/dkudr/miniconda3/envs/sweetviz/lib/python3.10/site-packages/sweetviz/series_analyzer_numeric.py:25: FutureWarning: The 'mad' method is deprecated and will be removed in a future version. To compute the same result, you may do `(df - df.mean()).abs().mean()`.\n",
      "  stats[\"mad\"] = series.mad()\n",
      "Feature: log_nuF_1.4                         |███████   | [ 70%]   00:09 -> (00:04 left)/home/dkudr/miniconda3/envs/sweetviz/lib/python3.10/site-packages/sweetviz/series_analyzer_numeric.py:25: FutureWarning: The 'mad' method is deprecated and will be removed in a future version. To compute the same result, you may do `(df - df.mean()).abs().mean()`.\n",
      "  stats[\"mad\"] = series.mad()\n",
      "Feature: log_nuF_4.8                         |███████▎  | [ 73%]   00:09 -> (00:03 left)/home/dkudr/miniconda3/envs/sweetviz/lib/python3.10/site-packages/sweetviz/series_analyzer_numeric.py:25: FutureWarning: The 'mad' method is deprecated and will be removed in a future version. To compute the same result, you may do `(df - df.mean()).abs().mean()`.\n",
      "  stats[\"mad\"] = series.mad()\n",
      "Feature: radio_radio                         |███████▋  | [ 77%]   00:10 -> (00:03 left)/home/dkudr/miniconda3/envs/sweetviz/lib/python3.10/site-packages/sweetviz/series_analyzer_numeric.py:25: FutureWarning: The 'mad' method is deprecated and will be removed in a future version. To compute the same result, you may do `(df - df.mean()).abs().mean()`.\n",
      "  stats[\"mad\"] = series.mad()\n",
      "Feature: radio_IR                            |████████  | [ 80%]   00:10 -> (00:02 left)/home/dkudr/miniconda3/envs/sweetviz/lib/python3.10/site-packages/sweetviz/series_analyzer_numeric.py:25: FutureWarning: The 'mad' method is deprecated and will be removed in a future version. To compute the same result, you may do `(df - df.mean()).abs().mean()`.\n",
      "  stats[\"mad\"] = series.mad()\n",
      "Feature: radio_UV                            |████████▎ | [ 83%]   00:11 -> (00:02 left)/home/dkudr/miniconda3/envs/sweetviz/lib/python3.10/site-packages/sweetviz/series_analyzer_numeric.py:25: FutureWarning: The 'mad' method is deprecated and will be removed in a future version. To compute the same result, you may do `(df - df.mean()).abs().mean()`.\n",
      "  stats[\"mad\"] = series.mad()\n",
      "Feature: radio_X                             |████████▋ | [ 87%]   00:11 -> (00:01 left)/home/dkudr/miniconda3/envs/sweetviz/lib/python3.10/site-packages/sweetviz/series_analyzer_numeric.py:25: FutureWarning: The 'mad' method is deprecated and will be removed in a future version. To compute the same result, you may do `(df - df.mean()).abs().mean()`.\n",
      "  stats[\"mad\"] = series.mad()\n",
      "Feature: IR_opt                              |█████████ | [ 90%]   00:12 -> (00:01 left)/home/dkudr/miniconda3/envs/sweetviz/lib/python3.10/site-packages/sweetviz/series_analyzer_numeric.py:25: FutureWarning: The 'mad' method is deprecated and will be removed in a future version. To compute the same result, you may do `(df - df.mean()).abs().mean()`.\n",
      "  stats[\"mad\"] = series.mad()\n",
      "Feature: IR_UV                               |█████████▎| [ 93%]   00:12 -> (00:00 left)/home/dkudr/miniconda3/envs/sweetviz/lib/python3.10/site-packages/sweetviz/series_analyzer_numeric.py:25: FutureWarning: The 'mad' method is deprecated and will be removed in a future version. To compute the same result, you may do `(df - df.mean()).abs().mean()`.\n",
      "  stats[\"mad\"] = series.mad()\n",
      "Feature: IR_X                                |█████████▋| [ 97%]   00:12 -> (00:00 left)/home/dkudr/miniconda3/envs/sweetviz/lib/python3.10/site-packages/sweetviz/series_analyzer_numeric.py:25: FutureWarning: The 'mad' method is deprecated and will be removed in a future version. To compute the same result, you may do `(df - df.mean()).abs().mean()`.\n",
      "  stats[\"mad\"] = series.mad()\n",
      "Done! Use 'show' commands to display/save.   |██████████| [100%]   00:02 -> (00:00 left)\n"
     ]
    },
    {
     "name": "stdout",
     "output_type": "stream",
     "text": [
      "Report SWEETVIZ_REPORT.html was generated! NOTEBOOK/COLAB USERS: the web browser MAY not pop up, regardless, the report IS saved in your notebook/colab files.\n"
     ]
    }
   ],
   "source": [
    "import pandas as pd\n",
    "import sweetviz as sv\n",
    "\n",
    "bzcat = pd.read_csv('./data/bzcat_for_profiling.csv')  \n",
    "\n",
    "report = sv.analyze(bzcat)\n",
    "report.show_html()"
   ]
  }
 ],
 "metadata": {
  "interpreter": {
   "hash": "916dbcbb3f70747c44a77c7bcd40155683ae19c65e1c03b4aa3499c5328201f1"
  },
  "kernelspec": {
   "display_name": "Python 3.9.2 64-bit",
   "language": "python",
   "name": "python3"
  },
  "language_info": {
   "codemirror_mode": {
    "name": "ipython",
    "version": 3
   },
   "file_extension": ".py",
   "mimetype": "text/x-python",
   "name": "python",
   "nbconvert_exporter": "python",
   "pygments_lexer": "ipython3",
   "version": "3.10.10"
  },
  "orig_nbformat": 4
 },
 "nbformat": 4,
 "nbformat_minor": 2
}
