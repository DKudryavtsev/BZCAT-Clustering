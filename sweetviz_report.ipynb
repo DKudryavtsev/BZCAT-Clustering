{
 "cells": [
  {
   "cell_type": "code",
   "execution_count": 1,
   "metadata": {},
   "outputs": [
    {
     "data": {
      "application/vnd.jupyter.widget-view+json": {
       "model_id": "3838554218f84717bf58340c7284925a",
       "version_major": 2,
       "version_minor": 0
      },
      "text/plain": [
       "                                             |          | [  0%]   00:00 -> (? left)"
      ]
     },
     "metadata": {},
     "output_type": "display_data"
    },
    {
     "name": "stderr",
     "output_type": "stream",
     "text": [
      "/home/dkudr/.local/lib/python3.9/site-packages/sweetviz/graph_associations.py:223: FutureWarning: The frame.append method is deprecated and will be removed from pandas in a future version. Use pandas.concat instead.\n",
      "  new_dataframe = new_dataframe.append(pd.Series(empty_row_dict, name=feature))\n",
      "/home/dkudr/.local/lib/python3.9/site-packages/sweetviz/graph_associations.py:223: FutureWarning: The frame.append method is deprecated and will be removed from pandas in a future version. Use pandas.concat instead.\n",
      "  new_dataframe = new_dataframe.append(pd.Series(empty_row_dict, name=feature))\n",
      "/home/dkudr/.local/lib/python3.9/site-packages/sweetviz/graph_associations.py:223: FutureWarning: The frame.append method is deprecated and will be removed from pandas in a future version. Use pandas.concat instead.\n",
      "  new_dataframe = new_dataframe.append(pd.Series(empty_row_dict, name=feature))\n",
      "/home/dkudr/.local/lib/python3.9/site-packages/sweetviz/graph_associations.py:223: FutureWarning: The frame.append method is deprecated and will be removed from pandas in a future version. Use pandas.concat instead.\n",
      "  new_dataframe = new_dataframe.append(pd.Series(empty_row_dict, name=feature))\n",
      "/home/dkudr/.local/lib/python3.9/site-packages/sweetviz/graph_associations.py:223: FutureWarning: The frame.append method is deprecated and will be removed from pandas in a future version. Use pandas.concat instead.\n",
      "  new_dataframe = new_dataframe.append(pd.Series(empty_row_dict, name=feature))\n",
      "/home/dkudr/.local/lib/python3.9/site-packages/sweetviz/graph_associations.py:223: FutureWarning: The frame.append method is deprecated and will be removed from pandas in a future version. Use pandas.concat instead.\n",
      "  new_dataframe = new_dataframe.append(pd.Series(empty_row_dict, name=feature))\n",
      "/home/dkudr/.local/lib/python3.9/site-packages/sweetviz/graph_associations.py:223: FutureWarning: The frame.append method is deprecated and will be removed from pandas in a future version. Use pandas.concat instead.\n",
      "  new_dataframe = new_dataframe.append(pd.Series(empty_row_dict, name=feature))\n",
      "/home/dkudr/.local/lib/python3.9/site-packages/sweetviz/graph_associations.py:223: FutureWarning: The frame.append method is deprecated and will be removed from pandas in a future version. Use pandas.concat instead.\n",
      "  new_dataframe = new_dataframe.append(pd.Series(empty_row_dict, name=feature))\n",
      "/home/dkudr/.local/lib/python3.9/site-packages/sweetviz/graph_associations.py:223: FutureWarning: The frame.append method is deprecated and will be removed from pandas in a future version. Use pandas.concat instead.\n",
      "  new_dataframe = new_dataframe.append(pd.Series(empty_row_dict, name=feature))\n",
      "/home/dkudr/.local/lib/python3.9/site-packages/sweetviz/graph_associations.py:223: FutureWarning: The frame.append method is deprecated and will be removed from pandas in a future version. Use pandas.concat instead.\n",
      "  new_dataframe = new_dataframe.append(pd.Series(empty_row_dict, name=feature))\n",
      "/home/dkudr/.local/lib/python3.9/site-packages/sweetviz/graph_associations.py:223: FutureWarning: The frame.append method is deprecated and will be removed from pandas in a future version. Use pandas.concat instead.\n",
      "  new_dataframe = new_dataframe.append(pd.Series(empty_row_dict, name=feature))\n",
      "/home/dkudr/.local/lib/python3.9/site-packages/sweetviz/graph_associations.py:223: FutureWarning: The frame.append method is deprecated and will be removed from pandas in a future version. Use pandas.concat instead.\n",
      "  new_dataframe = new_dataframe.append(pd.Series(empty_row_dict, name=feature))\n",
      "/home/dkudr/.local/lib/python3.9/site-packages/sweetviz/graph_associations.py:223: FutureWarning: The frame.append method is deprecated and will be removed from pandas in a future version. Use pandas.concat instead.\n",
      "  new_dataframe = new_dataframe.append(pd.Series(empty_row_dict, name=feature))\n",
      "/home/dkudr/.local/lib/python3.9/site-packages/sweetviz/graph_associations.py:223: FutureWarning: The frame.append method is deprecated and will be removed from pandas in a future version. Use pandas.concat instead.\n",
      "  new_dataframe = new_dataframe.append(pd.Series(empty_row_dict, name=feature))\n",
      "/home/dkudr/.local/lib/python3.9/site-packages/sweetviz/graph_associations.py:223: FutureWarning: The frame.append method is deprecated and will be removed from pandas in a future version. Use pandas.concat instead.\n",
      "  new_dataframe = new_dataframe.append(pd.Series(empty_row_dict, name=feature))\n",
      "/home/dkudr/.local/lib/python3.9/site-packages/sweetviz/graph_associations.py:223: FutureWarning: The frame.append method is deprecated and will be removed from pandas in a future version. Use pandas.concat instead.\n",
      "  new_dataframe = new_dataframe.append(pd.Series(empty_row_dict, name=feature))\n",
      "/home/dkudr/.local/lib/python3.9/site-packages/sweetviz/graph_associations.py:223: FutureWarning: The frame.append method is deprecated and will be removed from pandas in a future version. Use pandas.concat instead.\n",
      "  new_dataframe = new_dataframe.append(pd.Series(empty_row_dict, name=feature))\n",
      "/home/dkudr/.local/lib/python3.9/site-packages/sweetviz/graph_associations.py:223: FutureWarning: The frame.append method is deprecated and will be removed from pandas in a future version. Use pandas.concat instead.\n",
      "  new_dataframe = new_dataframe.append(pd.Series(empty_row_dict, name=feature))\n",
      "/home/dkudr/.local/lib/python3.9/site-packages/sweetviz/graph_associations.py:223: FutureWarning: The frame.append method is deprecated and will be removed from pandas in a future version. Use pandas.concat instead.\n",
      "  new_dataframe = new_dataframe.append(pd.Series(empty_row_dict, name=feature))\n",
      "/home/dkudr/.local/lib/python3.9/site-packages/sweetviz/graph_associations.py:223: FutureWarning: The frame.append method is deprecated and will be removed from pandas in a future version. Use pandas.concat instead.\n",
      "  new_dataframe = new_dataframe.append(pd.Series(empty_row_dict, name=feature))\n",
      "/home/dkudr/.local/lib/python3.9/site-packages/sweetviz/graph_associations.py:223: FutureWarning: The frame.append method is deprecated and will be removed from pandas in a future version. Use pandas.concat instead.\n",
      "  new_dataframe = new_dataframe.append(pd.Series(empty_row_dict, name=feature))\n",
      "/home/dkudr/.local/lib/python3.9/site-packages/sweetviz/graph_associations.py:223: FutureWarning: The frame.append method is deprecated and will be removed from pandas in a future version. Use pandas.concat instead.\n",
      "  new_dataframe = new_dataframe.append(pd.Series(empty_row_dict, name=feature))\n",
      "/home/dkudr/.local/lib/python3.9/site-packages/sweetviz/graph_associations.py:223: FutureWarning: The frame.append method is deprecated and will be removed from pandas in a future version. Use pandas.concat instead.\n",
      "  new_dataframe = new_dataframe.append(pd.Series(empty_row_dict, name=feature))\n",
      "/home/dkudr/.local/lib/python3.9/site-packages/sweetviz/graph_associations.py:223: FutureWarning: The frame.append method is deprecated and will be removed from pandas in a future version. Use pandas.concat instead.\n",
      "  new_dataframe = new_dataframe.append(pd.Series(empty_row_dict, name=feature))\n",
      "/home/dkudr/.local/lib/python3.9/site-packages/sweetviz/graph_associations.py:223: FutureWarning: The frame.append method is deprecated and will be removed from pandas in a future version. Use pandas.concat instead.\n",
      "  new_dataframe = new_dataframe.append(pd.Series(empty_row_dict, name=feature))\n",
      "/home/dkudr/.local/lib/python3.9/site-packages/sweetviz/graph_associations.py:223: FutureWarning: The frame.append method is deprecated and will be removed from pandas in a future version. Use pandas.concat instead.\n",
      "  new_dataframe = new_dataframe.append(pd.Series(empty_row_dict, name=feature))\n",
      "/home/dkudr/.local/lib/python3.9/site-packages/sweetviz/graph_associations.py:223: FutureWarning: The frame.append method is deprecated and will be removed from pandas in a future version. Use pandas.concat instead.\n",
      "  new_dataframe = new_dataframe.append(pd.Series(empty_row_dict, name=feature))\n",
      "/home/dkudr/.local/lib/python3.9/site-packages/sweetviz/graph_associations.py:223: FutureWarning: The frame.append method is deprecated and will be removed from pandas in a future version. Use pandas.concat instead.\n",
      "  new_dataframe = new_dataframe.append(pd.Series(empty_row_dict, name=feature))\n",
      "/home/dkudr/.local/lib/python3.9/site-packages/sweetviz/graph_associations.py:223: FutureWarning: The frame.append method is deprecated and will be removed from pandas in a future version. Use pandas.concat instead.\n",
      "  new_dataframe = new_dataframe.append(pd.Series(empty_row_dict, name=feature))\n",
      "/home/dkudr/.local/lib/python3.9/site-packages/sweetviz/graph_associations.py:223: FutureWarning: The frame.append method is deprecated and will be removed from pandas in a future version. Use pandas.concat instead.\n",
      "  new_dataframe = new_dataframe.append(pd.Series(empty_row_dict, name=feature))\n",
      "/home/dkudr/.local/lib/python3.9/site-packages/sweetviz/graph_associations.py:223: FutureWarning: The frame.append method is deprecated and will be removed from pandas in a future version. Use pandas.concat instead.\n",
      "  new_dataframe = new_dataframe.append(pd.Series(empty_row_dict, name=feature))\n",
      "/home/dkudr/.local/lib/python3.9/site-packages/sweetviz/graph_associations.py:223: FutureWarning: The frame.append method is deprecated and will be removed from pandas in a future version. Use pandas.concat instead.\n",
      "  new_dataframe = new_dataframe.append(pd.Series(empty_row_dict, name=feature))\n"
     ]
    },
    {
     "name": "stdout",
     "output_type": "stream",
     "text": [
      "Report SWEETVIZ_REPORT.html was generated! NOTEBOOK/COLAB USERS: the web browser MAY not pop up, regardless, the report IS saved in your notebook/colab files.\n"
     ]
    },
    {
     "name": "stderr",
     "output_type": "stream",
     "text": [
      "COMET WARNING: As you are running in a Jupyter environment, you will need to call `experiment.end()` when finished to ensure all metrics and code are logged before exiting.\n",
      "COMET INFO: Experiment is live on comet.ml https://www.comet.com/dkudryavtsev/general/44bcf4b4475a4df38a752f5c5346eac4\n",
      "\n",
      "COMET INFO: Uploading metrics, params, and assets to Comet before program termination (may take several seconds)\n",
      "COMET INFO: The Python SDK has 3600 seconds to finish before aborting...\n",
      "COMET INFO: Uploading 4 metrics, params and output messages\n",
      "COMET INFO: Waiting for completion of the file uploads (may take several seconds)\n",
      "COMET INFO: The Python SDK has 10800 seconds to finish before aborting...\n",
      "COMET INFO: Still uploading 3 file(s), remaining 6.73 MB/6.73 MB\n"
     ]
    }
   ],
   "source": [
    "import pandas as pd\n",
    "import sweetviz as sv\n",
    "\n",
    "bzcat = pd.read_csv('./data/bzcat_for_profiling.csv')  \n",
    "\n",
    "report = sv.analyze(bzcat)\n",
    "report.show_html()"
   ]
  }
 ],
 "metadata": {
  "interpreter": {
   "hash": "916dbcbb3f70747c44a77c7bcd40155683ae19c65e1c03b4aa3499c5328201f1"
  },
  "kernelspec": {
   "display_name": "Python 3.9.2 64-bit",
   "language": "python",
   "name": "python3"
  },
  "language_info": {
   "codemirror_mode": {
    "name": "ipython",
    "version": 3
   },
   "file_extension": ".py",
   "mimetype": "text/x-python",
   "name": "python",
   "nbconvert_exporter": "python",
   "pygments_lexer": "ipython3",
   "version": "3.9.2"
  },
  "orig_nbformat": 4
 },
 "nbformat": 4,
 "nbformat_minor": 2
}
