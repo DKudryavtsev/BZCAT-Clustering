{
 "cells": [
  {
   "cell_type": "code",
   "execution_count": 1,
   "metadata": {},
   "outputs": [],
   "source": [
    "import pandas as pd\n",
    "import sweetviz as sv"
   ]
  },
  {
   "cell_type": "code",
   "execution_count": 2,
   "metadata": {},
   "outputs": [],
   "source": [
    "blcat = pd.read_csv('./data/blcat_for_profiling.csv')  # BLCat, all combined"
   ]
  },
  {
   "cell_type": "code",
   "execution_count": 3,
   "metadata": {},
   "outputs": [
    {
     "data": {
      "application/vnd.jupyter.widget-view+json": {
       "model_id": "62f5b54bbf904e71a0faf375afef0bda",
       "version_major": 2,
       "version_minor": 0
      },
      "text/plain": [
       "                                             |          | [  0%]   00:00 -> (? left)"
      ]
     },
     "metadata": {},
     "output_type": "display_data"
    },
    {
     "name": "stderr",
     "output_type": "stream",
     "text": [
      "/home/dkudr/.local/lib/python3.9/site-packages/sweetviz/graph_associations.py:223: FutureWarning: The frame.append method is deprecated and will be removed from pandas in a future version. Use pandas.concat instead.\n",
      "  new_dataframe = new_dataframe.append(pd.Series(empty_row_dict, name=feature))\n",
      "/home/dkudr/.local/lib/python3.9/site-packages/sweetviz/graph_associations.py:223: FutureWarning: The frame.append method is deprecated and will be removed from pandas in a future version. Use pandas.concat instead.\n",
      "  new_dataframe = new_dataframe.append(pd.Series(empty_row_dict, name=feature))\n",
      "/home/dkudr/.local/lib/python3.9/site-packages/sweetviz/graph_associations.py:223: FutureWarning: The frame.append method is deprecated and will be removed from pandas in a future version. Use pandas.concat instead.\n",
      "  new_dataframe = new_dataframe.append(pd.Series(empty_row_dict, name=feature))\n",
      "/home/dkudr/.local/lib/python3.9/site-packages/sweetviz/graph_associations.py:223: FutureWarning: The frame.append method is deprecated and will be removed from pandas in a future version. Use pandas.concat instead.\n",
      "  new_dataframe = new_dataframe.append(pd.Series(empty_row_dict, name=feature))\n",
      "/home/dkudr/.local/lib/python3.9/site-packages/sweetviz/graph_associations.py:223: FutureWarning: The frame.append method is deprecated and will be removed from pandas in a future version. Use pandas.concat instead.\n",
      "  new_dataframe = new_dataframe.append(pd.Series(empty_row_dict, name=feature))\n",
      "/home/dkudr/.local/lib/python3.9/site-packages/sweetviz/graph_associations.py:223: FutureWarning: The frame.append method is deprecated and will be removed from pandas in a future version. Use pandas.concat instead.\n",
      "  new_dataframe = new_dataframe.append(pd.Series(empty_row_dict, name=feature))\n",
      "/home/dkudr/.local/lib/python3.9/site-packages/sweetviz/graph_associations.py:223: FutureWarning: The frame.append method is deprecated and will be removed from pandas in a future version. Use pandas.concat instead.\n",
      "  new_dataframe = new_dataframe.append(pd.Series(empty_row_dict, name=feature))\n",
      "/home/dkudr/.local/lib/python3.9/site-packages/sweetviz/graph_associations.py:223: FutureWarning: The frame.append method is deprecated and will be removed from pandas in a future version. Use pandas.concat instead.\n",
      "  new_dataframe = new_dataframe.append(pd.Series(empty_row_dict, name=feature))\n",
      "/home/dkudr/.local/lib/python3.9/site-packages/sweetviz/graph_associations.py:223: FutureWarning: The frame.append method is deprecated and will be removed from pandas in a future version. Use pandas.concat instead.\n",
      "  new_dataframe = new_dataframe.append(pd.Series(empty_row_dict, name=feature))\n",
      "/home/dkudr/.local/lib/python3.9/site-packages/sweetviz/graph_associations.py:223: FutureWarning: The frame.append method is deprecated and will be removed from pandas in a future version. Use pandas.concat instead.\n",
      "  new_dataframe = new_dataframe.append(pd.Series(empty_row_dict, name=feature))\n",
      "/home/dkudr/.local/lib/python3.9/site-packages/sweetviz/graph_associations.py:223: FutureWarning: The frame.append method is deprecated and will be removed from pandas in a future version. Use pandas.concat instead.\n",
      "  new_dataframe = new_dataframe.append(pd.Series(empty_row_dict, name=feature))\n",
      "/home/dkudr/.local/lib/python3.9/site-packages/sweetviz/graph_associations.py:223: FutureWarning: The frame.append method is deprecated and will be removed from pandas in a future version. Use pandas.concat instead.\n",
      "  new_dataframe = new_dataframe.append(pd.Series(empty_row_dict, name=feature))\n",
      "/home/dkudr/.local/lib/python3.9/site-packages/sweetviz/graph_associations.py:223: FutureWarning: The frame.append method is deprecated and will be removed from pandas in a future version. Use pandas.concat instead.\n",
      "  new_dataframe = new_dataframe.append(pd.Series(empty_row_dict, name=feature))\n",
      "/home/dkudr/.local/lib/python3.9/site-packages/sweetviz/graph_associations.py:223: FutureWarning: The frame.append method is deprecated and will be removed from pandas in a future version. Use pandas.concat instead.\n",
      "  new_dataframe = new_dataframe.append(pd.Series(empty_row_dict, name=feature))\n",
      "/home/dkudr/.local/lib/python3.9/site-packages/sweetviz/graph_associations.py:223: FutureWarning: The frame.append method is deprecated and will be removed from pandas in a future version. Use pandas.concat instead.\n",
      "  new_dataframe = new_dataframe.append(pd.Series(empty_row_dict, name=feature))\n",
      "/home/dkudr/.local/lib/python3.9/site-packages/sweetviz/graph_associations.py:223: FutureWarning: The frame.append method is deprecated and will be removed from pandas in a future version. Use pandas.concat instead.\n",
      "  new_dataframe = new_dataframe.append(pd.Series(empty_row_dict, name=feature))\n",
      "/home/dkudr/.local/lib/python3.9/site-packages/sweetviz/graph_associations.py:223: FutureWarning: The frame.append method is deprecated and will be removed from pandas in a future version. Use pandas.concat instead.\n",
      "  new_dataframe = new_dataframe.append(pd.Series(empty_row_dict, name=feature))\n",
      "/home/dkudr/.local/lib/python3.9/site-packages/sweetviz/graph_associations.py:223: FutureWarning: The frame.append method is deprecated and will be removed from pandas in a future version. Use pandas.concat instead.\n",
      "  new_dataframe = new_dataframe.append(pd.Series(empty_row_dict, name=feature))\n",
      "/home/dkudr/.local/lib/python3.9/site-packages/sweetviz/graph_associations.py:223: FutureWarning: The frame.append method is deprecated and will be removed from pandas in a future version. Use pandas.concat instead.\n",
      "  new_dataframe = new_dataframe.append(pd.Series(empty_row_dict, name=feature))\n",
      "/home/dkudr/.local/lib/python3.9/site-packages/sweetviz/graph_associations.py:223: FutureWarning: The frame.append method is deprecated and will be removed from pandas in a future version. Use pandas.concat instead.\n",
      "  new_dataframe = new_dataframe.append(pd.Series(empty_row_dict, name=feature))\n",
      "/home/dkudr/.local/lib/python3.9/site-packages/sweetviz/graph_associations.py:223: FutureWarning: The frame.append method is deprecated and will be removed from pandas in a future version. Use pandas.concat instead.\n",
      "  new_dataframe = new_dataframe.append(pd.Series(empty_row_dict, name=feature))\n",
      "/home/dkudr/.local/lib/python3.9/site-packages/sweetviz/graph_associations.py:223: FutureWarning: The frame.append method is deprecated and will be removed from pandas in a future version. Use pandas.concat instead.\n",
      "  new_dataframe = new_dataframe.append(pd.Series(empty_row_dict, name=feature))\n",
      "/home/dkudr/.local/lib/python3.9/site-packages/sweetviz/graph_associations.py:223: FutureWarning: The frame.append method is deprecated and will be removed from pandas in a future version. Use pandas.concat instead.\n",
      "  new_dataframe = new_dataframe.append(pd.Series(empty_row_dict, name=feature))\n",
      "/home/dkudr/.local/lib/python3.9/site-packages/sweetviz/graph_associations.py:223: FutureWarning: The frame.append method is deprecated and will be removed from pandas in a future version. Use pandas.concat instead.\n",
      "  new_dataframe = new_dataframe.append(pd.Series(empty_row_dict, name=feature))\n",
      "/home/dkudr/.local/lib/python3.9/site-packages/sweetviz/graph_associations.py:223: FutureWarning: The frame.append method is deprecated and will be removed from pandas in a future version. Use pandas.concat instead.\n",
      "  new_dataframe = new_dataframe.append(pd.Series(empty_row_dict, name=feature))\n",
      "/home/dkudr/.local/lib/python3.9/site-packages/sweetviz/graph_associations.py:223: FutureWarning: The frame.append method is deprecated and will be removed from pandas in a future version. Use pandas.concat instead.\n",
      "  new_dataframe = new_dataframe.append(pd.Series(empty_row_dict, name=feature))\n",
      "/home/dkudr/.local/lib/python3.9/site-packages/sweetviz/graph_associations.py:223: FutureWarning: The frame.append method is deprecated and will be removed from pandas in a future version. Use pandas.concat instead.\n",
      "  new_dataframe = new_dataframe.append(pd.Series(empty_row_dict, name=feature))\n",
      "/home/dkudr/.local/lib/python3.9/site-packages/sweetviz/graph_associations.py:223: FutureWarning: The frame.append method is deprecated and will be removed from pandas in a future version. Use pandas.concat instead.\n",
      "  new_dataframe = new_dataframe.append(pd.Series(empty_row_dict, name=feature))\n",
      "/home/dkudr/.local/lib/python3.9/site-packages/sweetviz/graph_associations.py:223: FutureWarning: The frame.append method is deprecated and will be removed from pandas in a future version. Use pandas.concat instead.\n",
      "  new_dataframe = new_dataframe.append(pd.Series(empty_row_dict, name=feature))\n",
      "/home/dkudr/.local/lib/python3.9/site-packages/sweetviz/graph_associations.py:223: FutureWarning: The frame.append method is deprecated and will be removed from pandas in a future version. Use pandas.concat instead.\n",
      "  new_dataframe = new_dataframe.append(pd.Series(empty_row_dict, name=feature))\n"
     ]
    },
    {
     "name": "stdout",
     "output_type": "stream",
     "text": [
      "Report SWEETVIZ_REPORT.html was generated! NOTEBOOK/COLAB USERS: the web browser MAY not pop up, regardless, the report IS saved in your notebook/colab files.\n"
     ]
    }
   ],
   "source": [
    "report = sv.analyze(blcat)\n",
    "report.show_html()"
   ]
  },
  {
   "cell_type": "markdown",
   "metadata": {},
   "source": [
    "Функция compare_intra() сравнивает две подгруппы одного датасета, разделенного по какому-либо признаку. В нашем случае в первой подгруппе будут содержаться записи со значением «UNDEFINED» в столбце «org:role», а во второй – все остальные записи.\n",
    "\n",
    "Так, первым параметром в compare_intra() подаем исходный датасет, вторым – условие разделения датасета на подгруппы, а последним – лист с отображаемыми названиями двух подгрупп. Возвращаемый функцией compare_intra() объект DataframeReport сохраняем в переменную report и сохраняем отчет в файл «Undefined role vs other.html» функцией show_html():\n",
    "\n",
    "report = sv.compare_intra(df, df[\"org:role\"] == \"UNDEFINED\", [\"Undefined role\", \"Other\"])\n",
    "\n",
    "report.show_html('Undefined role vs other.html')"
   ]
  },
  {
   "cell_type": "markdown",
   "metadata": {},
   "source": [
    "Функция compare_intra() библиотеки Sweetviz сравнивает подгруппы значений в рамках одного набора данных. Если же есть необходимость сравнить два разных датасета (например, train и test), Sweetviz предлагает использовать функцию compare(). Для демонстрации работы данной функции сравним данные за период до 2018 и с 2018 года.\n",
    "\n",
    "report = sv.compare([date_before_2018, 'Before 2018'], [date_after_2018, 'After 2018'])\n",
    "\n",
    "report.show_html('date.html')"
   ]
  }
 ],
 "metadata": {
  "interpreter": {
   "hash": "916dbcbb3f70747c44a77c7bcd40155683ae19c65e1c03b4aa3499c5328201f1"
  },
  "kernelspec": {
   "display_name": "Python 3.9.2 64-bit",
   "language": "python",
   "name": "python3"
  },
  "language_info": {
   "codemirror_mode": {
    "name": "ipython",
    "version": 3
   },
   "file_extension": ".py",
   "mimetype": "text/x-python",
   "name": "python",
   "nbconvert_exporter": "python",
   "pygments_lexer": "ipython3",
   "version": "3.9.2"
  },
  "orig_nbformat": 4
 },
 "nbformat": 4,
 "nbformat_minor": 2
}
