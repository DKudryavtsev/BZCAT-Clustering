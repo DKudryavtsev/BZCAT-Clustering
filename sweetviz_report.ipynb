{
 "cells": [
  {
   "cell_type": "code",
   "execution_count": 1,
   "metadata": {},
   "outputs": [
    {
     "name": "stderr",
     "output_type": "stream",
     "text": [
      "/home/dkudr/miniconda3/envs/sweetviz/lib/python3.10/site-packages/tqdm/auto.py:21: TqdmWarning: IProgress not found. Please update jupyter and ipywidgets. See https://ipywidgets.readthedocs.io/en/stable/user_install.html\n",
      "  from .autonotebook import tqdm as notebook_tqdm\n",
      "/home/dkudr/miniconda3/envs/sweetviz/lib/python3.10/site-packages/sweetviz/dataframe_report.py:74: FutureWarning: iteritems is deprecated and will be removed in a future version. Use .items instead.\n",
      "  all_source_names = [cur_name for cur_name, cur_series in source_df.iteritems()]\n",
      "/home/dkudr/miniconda3/envs/sweetviz/lib/python3.10/site-packages/sweetviz/dataframe_report.py:109: FutureWarning: iteritems is deprecated and will be removed in a future version. Use .items instead.\n",
      "  filtered_series_names_in_source = [cur_name for cur_name, cur_series in source_df.iteritems()\n",
      "Feature: Unnamed: 0                          |▎         | [  3%]   00:00 -> (00:00 left)/home/dkudr/miniconda3/envs/sweetviz/lib/python3.10/site-packages/sweetviz/series_analyzer_numeric.py:25: FutureWarning: The 'mad' method is deprecated and will be removed in a future version. To compute the same result, you may do `(df - df.mean()).abs().mean()`.\n",
      "  stats[\"mad\"] = series.mad()\n",
      "Feature: Rad_opt_sp_index                    |▌         | [  5%]   00:00 -> (00:09 left)/home/dkudr/miniconda3/envs/sweetviz/lib/python3.10/site-packages/sweetviz/series_analyzer_numeric.py:25: FutureWarning: The 'mad' method is deprecated and will be removed in a future version. To compute the same result, you may do `(df - df.mean()).abs().mean()`.\n",
      "  stats[\"mad\"] = series.mad()\n",
      "Feature: alpha_2.3-4.8                       |▊         | [  8%]   00:01 -> (00:12 left)/home/dkudr/miniconda3/envs/sweetviz/lib/python3.10/site-packages/sweetviz/series_analyzer_numeric.py:25: FutureWarning: The 'mad' method is deprecated and will be removed in a future version. To compute the same result, you may do `(df - df.mean()).abs().mean()`.\n",
      "  stats[\"mad\"] = series.mad()\n",
      "Feature: alpha_4.8-7.7                       |█         | [ 11%]   00:01 -> (00:12 left)/home/dkudr/miniconda3/envs/sweetviz/lib/python3.10/site-packages/sweetviz/series_analyzer_numeric.py:25: FutureWarning: The 'mad' method is deprecated and will be removed in a future version. To compute the same result, you may do `(df - df.mean()).abs().mean()`.\n",
      "  stats[\"mad\"] = series.mad()\n",
      "Feature: comoving_distance_Mpc               |█▎        | [ 14%]   00:01 -> (00:13 left)/home/dkudr/miniconda3/envs/sweetviz/lib/python3.10/site-packages/sweetviz/series_analyzer_numeric.py:25: FutureWarning: The 'mad' method is deprecated and will be removed in a future version. To compute the same result, you may do `(df - df.mean()).abs().mean()`.\n",
      "  stats[\"mad\"] = series.mad()\n",
      "Feature: log_nuF_nuv                         |█▌        | [ 16%]   00:02 -> (00:13 left)/home/dkudr/miniconda3/envs/sweetviz/lib/python3.10/site-packages/sweetviz/series_analyzer_numeric.py:25: FutureWarning: The 'mad' method is deprecated and will be removed in a future version. To compute the same result, you may do `(df - df.mean()).abs().mean()`.\n",
      "  stats[\"mad\"] = series.mad()\n",
      "Feature: log_nuF_g                           |█▉        | [ 19%]   00:02 -> (00:12 left)/home/dkudr/miniconda3/envs/sweetviz/lib/python3.10/site-packages/sweetviz/series_analyzer_numeric.py:25: FutureWarning: The 'mad' method is deprecated and will be removed in a future version. To compute the same result, you may do `(df - df.mean()).abs().mean()`.\n",
      "  stats[\"mad\"] = series.mad()\n",
      "Feature: log_nuF_r                           |██▏       | [ 22%]   00:03 -> (00:12 left)/home/dkudr/miniconda3/envs/sweetviz/lib/python3.10/site-packages/sweetviz/series_analyzer_numeric.py:25: FutureWarning: The 'mad' method is deprecated and will be removed in a future version. To compute the same result, you may do `(df - df.mean()).abs().mean()`.\n",
      "  stats[\"mad\"] = series.mad()\n",
      "Feature: log_nuF_i                           |██▍       | [ 24%]   00:03 -> (00:12 left)/home/dkudr/miniconda3/envs/sweetviz/lib/python3.10/site-packages/sweetviz/series_analyzer_numeric.py:25: FutureWarning: The 'mad' method is deprecated and will be removed in a future version. To compute the same result, you may do `(df - df.mean()).abs().mean()`.\n",
      "  stats[\"mad\"] = series.mad()\n",
      "Feature: log_nuF_z                           |██▋       | [ 27%]   00:04 -> (00:12 left)/home/dkudr/miniconda3/envs/sweetviz/lib/python3.10/site-packages/sweetviz/series_analyzer_numeric.py:25: FutureWarning: The 'mad' method is deprecated and will be removed in a future version. To compute the same result, you may do `(df - df.mean()).abs().mean()`.\n",
      "  stats[\"mad\"] = series.mad()\n",
      "Feature: log_nuF_y                           |██▉       | [ 30%]   00:04 -> (00:11 left)/home/dkudr/miniconda3/envs/sweetviz/lib/python3.10/site-packages/sweetviz/series_analyzer_numeric.py:25: FutureWarning: The 'mad' method is deprecated and will be removed in a future version. To compute the same result, you may do `(df - df.mean()).abs().mean()`.\n",
      "  stats[\"mad\"] = series.mad()\n",
      "Feature: log_nuF_w1                          |███▏      | [ 32%]   00:05 -> (00:11 left)/home/dkudr/miniconda3/envs/sweetviz/lib/python3.10/site-packages/sweetviz/series_analyzer_numeric.py:25: FutureWarning: The 'mad' method is deprecated and will be removed in a future version. To compute the same result, you may do `(df - df.mean()).abs().mean()`.\n",
      "  stats[\"mad\"] = series.mad()\n",
      "Feature: log_nuF_w2                          |███▌      | [ 35%]   00:05 -> (00:11 left)/home/dkudr/miniconda3/envs/sweetviz/lib/python3.10/site-packages/sweetviz/series_analyzer_numeric.py:25: FutureWarning: The 'mad' method is deprecated and will be removed in a future version. To compute the same result, you may do `(df - df.mean()).abs().mean()`.\n",
      "  stats[\"mad\"] = series.mad()\n",
      "Feature: log_nuF_w3                          |███▊      | [ 38%]   00:06 -> (00:10 left)/home/dkudr/miniconda3/envs/sweetviz/lib/python3.10/site-packages/sweetviz/series_analyzer_numeric.py:25: FutureWarning: The 'mad' method is deprecated and will be removed in a future version. To compute the same result, you may do `(df - df.mean()).abs().mean()`.\n",
      "  stats[\"mad\"] = series.mad()\n",
      "Feature: log_nuF_w4                          |████      | [ 41%]   00:06 -> (00:09 left)/home/dkudr/miniconda3/envs/sweetviz/lib/python3.10/site-packages/sweetviz/series_analyzer_numeric.py:25: FutureWarning: The 'mad' method is deprecated and will be removed in a future version. To compute the same result, you may do `(df - df.mean()).abs().mean()`.\n",
      "  stats[\"mad\"] = series.mad()\n",
      "Feature: tangent_wise                        |████▎     | [ 43%]   00:06 -> (00:09 left)/home/dkudr/miniconda3/envs/sweetviz/lib/python3.10/site-packages/sweetviz/series_analyzer_numeric.py:25: FutureWarning: The 'mad' method is deprecated and will be removed in a future version. To compute the same result, you may do `(df - df.mean()).abs().mean()`.\n",
      "  stats[\"mad\"] = series.mad()\n",
      "Feature: tangent_pstarrs                     |████▌     | [ 46%]   00:07 -> (00:09 left)/home/dkudr/miniconda3/envs/sweetviz/lib/python3.10/site-packages/sweetviz/series_analyzer_numeric.py:25: FutureWarning: The 'mad' method is deprecated and will be removed in a future version. To compute the same result, you may do `(df - df.mean()).abs().mean()`.\n",
      "  stats[\"mad\"] = series.mad()\n",
      "Feature: log_nu_radmax                       |████▊     | [ 49%]   00:07 -> (00:08 left)/home/dkudr/miniconda3/envs/sweetviz/lib/python3.10/site-packages/sweetviz/series_analyzer_numeric.py:25: FutureWarning: The 'mad' method is deprecated and will be removed in a future version. To compute the same result, you may do `(df - df.mean()).abs().mean()`.\n",
      "  stats[\"mad\"] = series.mad()\n",
      "Feature: log_nuF_X                           |█████▏    | [ 51%]   00:08 -> (00:08 left)/home/dkudr/miniconda3/envs/sweetviz/lib/python3.10/site-packages/sweetviz/series_analyzer_numeric.py:25: FutureWarning: The 'mad' method is deprecated and will be removed in a future version. To compute the same result, you may do `(df - df.mean()).abs().mean()`.\n",
      "  stats[\"mad\"] = series.mad()\n",
      "Feature: log_radio_luminosity                |█████▍    | [ 54%]   00:08 -> (00:07 left)/home/dkudr/miniconda3/envs/sweetviz/lib/python3.10/site-packages/sweetviz/series_analyzer_numeric.py:25: FutureWarning: The 'mad' method is deprecated and will be removed in a future version. To compute the same result, you may do `(df - df.mean()).abs().mean()`.\n",
      "  stats[\"mad\"] = series.mad()\n",
      "Feature: log_nuF_1.4                         |█████▋    | [ 57%]   00:09 -> (00:07 left)/home/dkudr/miniconda3/envs/sweetviz/lib/python3.10/site-packages/sweetviz/series_analyzer_numeric.py:25: FutureWarning: The 'mad' method is deprecated and will be removed in a future version. To compute the same result, you may do `(df - df.mean()).abs().mean()`.\n",
      "  stats[\"mad\"] = series.mad()\n",
      "Feature: log_nuF_4.8                         |█████▉    | [ 59%]   00:09 -> (00:06 left)/home/dkudr/miniconda3/envs/sweetviz/lib/python3.10/site-packages/sweetviz/series_analyzer_numeric.py:25: FutureWarning: The 'mad' method is deprecated and will be removed in a future version. To compute the same result, you may do `(df - df.mean()).abs().mean()`.\n",
      "  stats[\"mad\"] = series.mad()\n",
      "Feature: radio_radio                         |██████▏   | [ 62%]   00:10 -> (00:06 left)/home/dkudr/miniconda3/envs/sweetviz/lib/python3.10/site-packages/sweetviz/series_analyzer_numeric.py:25: FutureWarning: The 'mad' method is deprecated and will be removed in a future version. To compute the same result, you may do `(df - df.mean()).abs().mean()`.\n",
      "  stats[\"mad\"] = series.mad()\n",
      "Feature: radio_IR                            |██████▍   | [ 65%]   00:10 -> (00:06 left)/home/dkudr/miniconda3/envs/sweetviz/lib/python3.10/site-packages/sweetviz/series_analyzer_numeric.py:25: FutureWarning: The 'mad' method is deprecated and will be removed in a future version. To compute the same result, you may do `(df - df.mean()).abs().mean()`.\n",
      "  stats[\"mad\"] = series.mad()\n",
      "Feature: radio_UV                            |██████▊   | [ 68%]   00:11 -> (00:05 left)/home/dkudr/miniconda3/envs/sweetviz/lib/python3.10/site-packages/sweetviz/series_analyzer_numeric.py:25: FutureWarning: The 'mad' method is deprecated and will be removed in a future version. To compute the same result, you may do `(df - df.mean()).abs().mean()`.\n",
      "  stats[\"mad\"] = series.mad()\n",
      "Feature: radio_X                             |███████   | [ 70%]   00:11 -> (00:05 left)/home/dkudr/miniconda3/envs/sweetviz/lib/python3.10/site-packages/sweetviz/series_analyzer_numeric.py:25: FutureWarning: The 'mad' method is deprecated and will be removed in a future version. To compute the same result, you may do `(df - df.mean()).abs().mean()`.\n",
      "  stats[\"mad\"] = series.mad()\n",
      "Feature: IR_opt                              |███████▎  | [ 73%]   00:12 -> (00:04 left)/home/dkudr/miniconda3/envs/sweetviz/lib/python3.10/site-packages/sweetviz/series_analyzer_numeric.py:25: FutureWarning: The 'mad' method is deprecated and will be removed in a future version. To compute the same result, you may do `(df - df.mean()).abs().mean()`.\n",
      "  stats[\"mad\"] = series.mad()\n",
      "Feature: IR_UV                               |███████▌  | [ 76%]   00:12 -> (00:04 left)/home/dkudr/miniconda3/envs/sweetviz/lib/python3.10/site-packages/sweetviz/series_analyzer_numeric.py:25: FutureWarning: The 'mad' method is deprecated and will be removed in a future version. To compute the same result, you may do `(df - df.mean()).abs().mean()`.\n",
      "  stats[\"mad\"] = series.mad()\n",
      "Feature: IR_X                                |███████▊  | [ 78%]   00:12 -> (00:03 left)/home/dkudr/miniconda3/envs/sweetviz/lib/python3.10/site-packages/sweetviz/series_analyzer_numeric.py:25: FutureWarning: The 'mad' method is deprecated and will be removed in a future version. To compute the same result, you may do `(df - df.mean()).abs().mean()`.\n",
      "  stats[\"mad\"] = series.mad()\n",
      "Feature: log_nuF_gamma                       |████████  | [ 81%]   00:13 -> (00:03 left)/home/dkudr/miniconda3/envs/sweetviz/lib/python3.10/site-packages/sweetviz/series_analyzer_numeric.py:25: FutureWarning: The 'mad' method is deprecated and will be removed in a future version. To compute the same result, you may do `(df - df.mean()).abs().mean()`.\n",
      "  stats[\"mad\"] = series.mad()\n",
      "Feature: log_gamma_luminosity_ph             |████████▍ | [ 84%]   00:13 -> (00:02 left)/home/dkudr/miniconda3/envs/sweetviz/lib/python3.10/site-packages/sweetviz/series_analyzer_numeric.py:25: FutureWarning: The 'mad' method is deprecated and will be removed in a future version. To compute the same result, you may do `(df - df.mean()).abs().mean()`.\n",
      "  stats[\"mad\"] = series.mad()\n",
      "Feature: radio_gamma                         |████████▋ | [ 86%]   00:14 -> (00:02 left)/home/dkudr/miniconda3/envs/sweetviz/lib/python3.10/site-packages/sweetviz/series_analyzer_numeric.py:25: FutureWarning: The 'mad' method is deprecated and will be removed in a future version. To compute the same result, you may do `(df - df.mean()).abs().mean()`.\n",
      "  stats[\"mad\"] = series.mad()\n",
      "Feature: IR_gamma                            |████████▉ | [ 89%]   00:14 -> (00:01 left)/home/dkudr/miniconda3/envs/sweetviz/lib/python3.10/site-packages/sweetviz/series_analyzer_numeric.py:25: FutureWarning: The 'mad' method is deprecated and will be removed in a future version. To compute the same result, you may do `(df - df.mean()).abs().mean()`.\n",
      "  stats[\"mad\"] = series.mad()\n",
      "Feature: opt_gamma                           |█████████▏| [ 92%]   00:15 -> (00:01 left)/home/dkudr/miniconda3/envs/sweetviz/lib/python3.10/site-packages/sweetviz/series_analyzer_numeric.py:25: FutureWarning: The 'mad' method is deprecated and will be removed in a future version. To compute the same result, you may do `(df - df.mean()).abs().mean()`.\n",
      "  stats[\"mad\"] = series.mad()\n",
      "Feature: UV_gamma                            |█████████▍| [ 95%]   00:15 -> (00:00 left)/home/dkudr/miniconda3/envs/sweetviz/lib/python3.10/site-packages/sweetviz/series_analyzer_numeric.py:25: FutureWarning: The 'mad' method is deprecated and will be removed in a future version. To compute the same result, you may do `(df - df.mean()).abs().mean()`.\n",
      "  stats[\"mad\"] = series.mad()\n",
      "Feature: X_gamma                             |█████████▋| [ 97%]   00:16 -> (00:00 left)/home/dkudr/miniconda3/envs/sweetviz/lib/python3.10/site-packages/sweetviz/series_analyzer_numeric.py:25: FutureWarning: The 'mad' method is deprecated and will be removed in a future version. To compute the same result, you may do `(df - df.mean()).abs().mean()`.\n",
      "  stats[\"mad\"] = series.mad()\n",
      "Done! Use 'show' commands to display/save.   |██████████| [100%]   00:04 -> (00:00 left)\n"
     ]
    },
    {
     "name": "stdout",
     "output_type": "stream",
     "text": [
      "Report SWEETVIZ_REPORT.html was generated! NOTEBOOK/COLAB USERS: the web browser MAY not pop up, regardless, the report IS saved in your notebook/colab files.\n"
     ]
    }
   ],
   "source": [
    "import pandas as pd\n",
    "import sweetviz as sv\n",
    "\n",
    "bzcat = pd.read_csv('./data/bzcat_for_profiling.csv')  \n",
    "\n",
    "report = sv.analyze(bzcat)\n",
    "report.show_html()"
   ]
  }
 ],
 "metadata": {
  "interpreter": {
   "hash": "916dbcbb3f70747c44a77c7bcd40155683ae19c65e1c03b4aa3499c5328201f1"
  },
  "kernelspec": {
   "display_name": "Python 3.9.2 64-bit",
   "language": "python",
   "name": "python3"
  },
  "language_info": {
   "codemirror_mode": {
    "name": "ipython",
    "version": 3
   },
   "file_extension": ".py",
   "mimetype": "text/x-python",
   "name": "python",
   "nbconvert_exporter": "python",
   "pygments_lexer": "ipython3",
   "version": "3.10.10"
  },
  "orig_nbformat": 4
 },
 "nbformat": 4,
 "nbformat_minor": 2
}
