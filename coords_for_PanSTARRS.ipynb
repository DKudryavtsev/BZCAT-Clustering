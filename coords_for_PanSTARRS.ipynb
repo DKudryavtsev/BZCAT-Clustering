{
 "cells": [
  {
   "cell_type": "code",
   "execution_count": 4,
   "metadata": {},
   "outputs": [],
   "source": [
    "import pandas as pd\n",
    "\n",
    "\n",
    "def ra_to_deg(x):\n",
    "    hms = x.split()\n",
    "    return (int(hms[0])+(int(hms[1])+float(hms[2])/60)/60) * 15\n",
    "    \n",
    "    \n",
    "def del_to_deg(x):\n",
    "    dms = x.split()\n",
    "    if dms[0][0] == '-':\n",
    "        return int(dms[0]) - (int(dms[1])+float(dms[2])/60)/60\n",
    "    else:\n",
    "        return int(dms[0]) + (int(dms[1])+float(dms[2])/60)/60\n",
    "\n",
    "\n",
    "blcat = pd.read_excel('data/combined_dataset_BLCat.xlsx')\n",
    "blcat['ra'] = blcat['RA (J2000.0)'].apply(ra_to_deg)\n",
    "blcat['dec'] = blcat['Dec (J2000.0)'].apply(del_to_deg)\n",
    "\n",
    "for_PanSTARRS = blcat[['ra', 'dec']]\n",
    "for_PanSTARRS.to_csv('data/for_PanSTARRS.csv', index=False)"
   ]
  }
 ],
 "metadata": {
  "interpreter": {
   "hash": "916dbcbb3f70747c44a77c7bcd40155683ae19c65e1c03b4aa3499c5328201f1"
  },
  "kernelspec": {
   "display_name": "Python 3.9.2 64-bit",
   "language": "python",
   "name": "python3"
  },
  "language_info": {
   "codemirror_mode": {
    "name": "ipython",
    "version": 3
   },
   "file_extension": ".py",
   "mimetype": "text/x-python",
   "name": "python",
   "nbconvert_exporter": "python",
   "pygments_lexer": "ipython3",
   "version": "3.9.2"
  },
  "orig_nbformat": 4
 },
 "nbformat": 4,
 "nbformat_minor": 2
}
